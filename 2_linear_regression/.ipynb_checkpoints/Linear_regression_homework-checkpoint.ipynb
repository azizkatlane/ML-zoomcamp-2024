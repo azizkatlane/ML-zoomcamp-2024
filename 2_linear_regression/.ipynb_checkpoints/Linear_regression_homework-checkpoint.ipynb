{
 "cells": [
  {
   "cell_type": "code",
   "execution_count": 1,
   "id": "394c6b6b-008a-4e6e-a0cf-93225276c182",
   "metadata": {},
   "outputs": [],
   "source": [
    "import pandas as pd\n",
    "import numpy as np\n",
    "import seaborn as sns"
   ]
  },
  {
   "cell_type": "code",
   "execution_count": 2,
   "id": "ba1dce0f-df48-4234-bdb3-4e9733cb2c45",
   "metadata": {},
   "outputs": [],
   "source": [
    "df=pd.read_csv('./laptops.csv')"
   ]
  },
  {
   "cell_type": "code",
   "execution_count": 3,
   "id": "54ae247b-6b1b-4b6c-8756-6d15900f7ab7",
   "metadata": {},
   "outputs": [],
   "source": [
    "df.columns = df.columns.str.lower().str.replace(' ', '_')"
   ]
  },
  {
   "cell_type": "code",
   "execution_count": 4,
   "id": "454ae90a-6195-4e39-a35e-da43581641ea",
   "metadata": {},
   "outputs": [
    {
     "data": {
      "text/plain": [
       "Index(['laptop', 'status', 'brand', 'model', 'cpu', 'ram', 'storage',\n",
       "       'storage_type', 'gpu', 'screen', 'touch', 'final_price'],\n",
       "      dtype='object')"
      ]
     },
     "execution_count": 4,
     "metadata": {},
     "output_type": "execute_result"
    }
   ],
   "source": [
    "df.columns"
   ]
  },
  {
   "cell_type": "code",
   "execution_count": 5,
   "id": "054a9c3c-1130-4cdf-a6e3-5688bfcef5e9",
   "metadata": {},
   "outputs": [
    {
     "data": {
      "text/html": [
       "<div>\n",
       "<style scoped>\n",
       "    .dataframe tbody tr th:only-of-type {\n",
       "        vertical-align: middle;\n",
       "    }\n",
       "\n",
       "    .dataframe tbody tr th {\n",
       "        vertical-align: top;\n",
       "    }\n",
       "\n",
       "    .dataframe thead th {\n",
       "        text-align: right;\n",
       "    }\n",
       "</style>\n",
       "<table border=\"1\" class=\"dataframe\">\n",
       "  <thead>\n",
       "    <tr style=\"text-align: right;\">\n",
       "      <th></th>\n",
       "      <th>laptop</th>\n",
       "      <th>status</th>\n",
       "      <th>brand</th>\n",
       "      <th>model</th>\n",
       "      <th>cpu</th>\n",
       "      <th>ram</th>\n",
       "      <th>storage</th>\n",
       "      <th>storage_type</th>\n",
       "      <th>gpu</th>\n",
       "      <th>screen</th>\n",
       "      <th>touch</th>\n",
       "      <th>final_price</th>\n",
       "    </tr>\n",
       "  </thead>\n",
       "  <tbody>\n",
       "    <tr>\n",
       "      <th>0</th>\n",
       "      <td>ASUS ExpertBook B1 B1502CBA-EJ0436X Intel Core...</td>\n",
       "      <td>New</td>\n",
       "      <td>Asus</td>\n",
       "      <td>ExpertBook</td>\n",
       "      <td>Intel Core i5</td>\n",
       "      <td>8</td>\n",
       "      <td>512</td>\n",
       "      <td>SSD</td>\n",
       "      <td>NaN</td>\n",
       "      <td>15.6</td>\n",
       "      <td>No</td>\n",
       "      <td>1009.00</td>\n",
       "    </tr>\n",
       "    <tr>\n",
       "      <th>1</th>\n",
       "      <td>Alurin Go Start Intel Celeron N4020/8GB/256GB ...</td>\n",
       "      <td>New</td>\n",
       "      <td>Alurin</td>\n",
       "      <td>Go</td>\n",
       "      <td>Intel Celeron</td>\n",
       "      <td>8</td>\n",
       "      <td>256</td>\n",
       "      <td>SSD</td>\n",
       "      <td>NaN</td>\n",
       "      <td>15.6</td>\n",
       "      <td>No</td>\n",
       "      <td>299.00</td>\n",
       "    </tr>\n",
       "    <tr>\n",
       "      <th>2</th>\n",
       "      <td>ASUS ExpertBook B1 B1502CBA-EJ0424X Intel Core...</td>\n",
       "      <td>New</td>\n",
       "      <td>Asus</td>\n",
       "      <td>ExpertBook</td>\n",
       "      <td>Intel Core i3</td>\n",
       "      <td>8</td>\n",
       "      <td>256</td>\n",
       "      <td>SSD</td>\n",
       "      <td>NaN</td>\n",
       "      <td>15.6</td>\n",
       "      <td>No</td>\n",
       "      <td>789.00</td>\n",
       "    </tr>\n",
       "    <tr>\n",
       "      <th>3</th>\n",
       "      <td>MSI Katana GF66 12UC-082XES Intel Core i7-1270...</td>\n",
       "      <td>New</td>\n",
       "      <td>MSI</td>\n",
       "      <td>Katana</td>\n",
       "      <td>Intel Core i7</td>\n",
       "      <td>16</td>\n",
       "      <td>1000</td>\n",
       "      <td>SSD</td>\n",
       "      <td>RTX 3050</td>\n",
       "      <td>15.6</td>\n",
       "      <td>No</td>\n",
       "      <td>1199.00</td>\n",
       "    </tr>\n",
       "    <tr>\n",
       "      <th>4</th>\n",
       "      <td>HP 15S-FQ5085NS Intel Core i5-1235U/16GB/512GB...</td>\n",
       "      <td>New</td>\n",
       "      <td>HP</td>\n",
       "      <td>15S</td>\n",
       "      <td>Intel Core i5</td>\n",
       "      <td>16</td>\n",
       "      <td>512</td>\n",
       "      <td>SSD</td>\n",
       "      <td>NaN</td>\n",
       "      <td>15.6</td>\n",
       "      <td>No</td>\n",
       "      <td>669.01</td>\n",
       "    </tr>\n",
       "  </tbody>\n",
       "</table>\n",
       "</div>"
      ],
      "text/plain": [
       "                                              laptop status   brand  \\\n",
       "0  ASUS ExpertBook B1 B1502CBA-EJ0436X Intel Core...    New    Asus   \n",
       "1  Alurin Go Start Intel Celeron N4020/8GB/256GB ...    New  Alurin   \n",
       "2  ASUS ExpertBook B1 B1502CBA-EJ0424X Intel Core...    New    Asus   \n",
       "3  MSI Katana GF66 12UC-082XES Intel Core i7-1270...    New     MSI   \n",
       "4  HP 15S-FQ5085NS Intel Core i5-1235U/16GB/512GB...    New      HP   \n",
       "\n",
       "        model            cpu  ram  storage storage_type       gpu  screen  \\\n",
       "0  ExpertBook  Intel Core i5    8      512          SSD       NaN    15.6   \n",
       "1          Go  Intel Celeron    8      256          SSD       NaN    15.6   \n",
       "2  ExpertBook  Intel Core i3    8      256          SSD       NaN    15.6   \n",
       "3      Katana  Intel Core i7   16     1000          SSD  RTX 3050    15.6   \n",
       "4         15S  Intel Core i5   16      512          SSD       NaN    15.6   \n",
       "\n",
       "  touch  final_price  \n",
       "0    No      1009.00  \n",
       "1    No       299.00  \n",
       "2    No       789.00  \n",
       "3    No      1199.00  \n",
       "4    No       669.01  "
      ]
     },
     "execution_count": 5,
     "metadata": {},
     "output_type": "execute_result"
    }
   ],
   "source": [
    "df.head()"
   ]
  },
  {
   "cell_type": "code",
   "execution_count": 6,
   "id": "a48c4683-e598-4b34-9ab4-4bafc3d6ac0a",
   "metadata": {},
   "outputs": [
    {
     "data": {
      "text/plain": [
       "(2160, 12)"
      ]
     },
     "execution_count": 6,
     "metadata": {},
     "output_type": "execute_result"
    }
   ],
   "source": [
    "df.shape"
   ]
  },
  {
   "cell_type": "code",
   "execution_count": 7,
   "id": "651e4e46-f9a4-42f2-91d9-6b25d3aa5809",
   "metadata": {},
   "outputs": [],
   "source": [
    "#filtering columns 'ram','storage','screen','final_price'\n",
    "df=df.loc[:,['ram','storage','screen','final_price']]"
   ]
  },
  {
   "cell_type": "code",
   "execution_count": 8,
   "id": "dd9c9b15-9297-41ba-acf7-8505d81b8fd7",
   "metadata": {},
   "outputs": [
    {
     "data": {
      "text/html": [
       "<div>\n",
       "<style scoped>\n",
       "    .dataframe tbody tr th:only-of-type {\n",
       "        vertical-align: middle;\n",
       "    }\n",
       "\n",
       "    .dataframe tbody tr th {\n",
       "        vertical-align: top;\n",
       "    }\n",
       "\n",
       "    .dataframe thead th {\n",
       "        text-align: right;\n",
       "    }\n",
       "</style>\n",
       "<table border=\"1\" class=\"dataframe\">\n",
       "  <thead>\n",
       "    <tr style=\"text-align: right;\">\n",
       "      <th></th>\n",
       "      <th>ram</th>\n",
       "      <th>storage</th>\n",
       "      <th>screen</th>\n",
       "      <th>final_price</th>\n",
       "    </tr>\n",
       "  </thead>\n",
       "  <tbody>\n",
       "    <tr>\n",
       "      <th>0</th>\n",
       "      <td>8</td>\n",
       "      <td>512</td>\n",
       "      <td>15.6</td>\n",
       "      <td>1009.00</td>\n",
       "    </tr>\n",
       "    <tr>\n",
       "      <th>1</th>\n",
       "      <td>8</td>\n",
       "      <td>256</td>\n",
       "      <td>15.6</td>\n",
       "      <td>299.00</td>\n",
       "    </tr>\n",
       "    <tr>\n",
       "      <th>2</th>\n",
       "      <td>8</td>\n",
       "      <td>256</td>\n",
       "      <td>15.6</td>\n",
       "      <td>789.00</td>\n",
       "    </tr>\n",
       "    <tr>\n",
       "      <th>3</th>\n",
       "      <td>16</td>\n",
       "      <td>1000</td>\n",
       "      <td>15.6</td>\n",
       "      <td>1199.00</td>\n",
       "    </tr>\n",
       "    <tr>\n",
       "      <th>4</th>\n",
       "      <td>16</td>\n",
       "      <td>512</td>\n",
       "      <td>15.6</td>\n",
       "      <td>669.01</td>\n",
       "    </tr>\n",
       "    <tr>\n",
       "      <th>...</th>\n",
       "      <td>...</td>\n",
       "      <td>...</td>\n",
       "      <td>...</td>\n",
       "      <td>...</td>\n",
       "    </tr>\n",
       "    <tr>\n",
       "      <th>2155</th>\n",
       "      <td>16</td>\n",
       "      <td>1000</td>\n",
       "      <td>17.3</td>\n",
       "      <td>2699.99</td>\n",
       "    </tr>\n",
       "    <tr>\n",
       "      <th>2156</th>\n",
       "      <td>16</td>\n",
       "      <td>1000</td>\n",
       "      <td>17.3</td>\n",
       "      <td>2899.99</td>\n",
       "    </tr>\n",
       "    <tr>\n",
       "      <th>2157</th>\n",
       "      <td>32</td>\n",
       "      <td>1000</td>\n",
       "      <td>17.3</td>\n",
       "      <td>3399.99</td>\n",
       "    </tr>\n",
       "    <tr>\n",
       "      <th>2158</th>\n",
       "      <td>16</td>\n",
       "      <td>1000</td>\n",
       "      <td>13.4</td>\n",
       "      <td>1899.99</td>\n",
       "    </tr>\n",
       "    <tr>\n",
       "      <th>2159</th>\n",
       "      <td>16</td>\n",
       "      <td>256</td>\n",
       "      <td>13.4</td>\n",
       "      <td>1699.99</td>\n",
       "    </tr>\n",
       "  </tbody>\n",
       "</table>\n",
       "<p>2160 rows × 4 columns</p>\n",
       "</div>"
      ],
      "text/plain": [
       "      ram  storage  screen  final_price\n",
       "0       8      512    15.6      1009.00\n",
       "1       8      256    15.6       299.00\n",
       "2       8      256    15.6       789.00\n",
       "3      16     1000    15.6      1199.00\n",
       "4      16      512    15.6       669.01\n",
       "...   ...      ...     ...          ...\n",
       "2155   16     1000    17.3      2699.99\n",
       "2156   16     1000    17.3      2899.99\n",
       "2157   32     1000    17.3      3399.99\n",
       "2158   16     1000    13.4      1899.99\n",
       "2159   16      256    13.4      1699.99\n",
       "\n",
       "[2160 rows x 4 columns]"
      ]
     },
     "execution_count": 8,
     "metadata": {},
     "output_type": "execute_result"
    }
   ],
   "source": [
    "df"
   ]
  },
  {
   "cell_type": "code",
   "execution_count": 9,
   "id": "12332a7f-6e1e-4e5e-871f-eb559104a74d",
   "metadata": {},
   "outputs": [
    {
     "data": {
      "text/plain": [
       "<Axes: xlabel='final_price', ylabel='Count'>"
      ]
     },
     "execution_count": 9,
     "metadata": {},
     "output_type": "execute_result"
    },
    {
     "data": {
      "image/png": "[encoded data removed]",
      "text/plain": [
       "<Figure size 640x480 with 1 Axes>"
      ]
     },
     "metadata": {},
     "output_type": "display_data"
    }
   ],
   "source": [
    "sns.histplot(np.log1p(df['final_price']),bins=100)"
   ]
  },
  {
   "cell_type": "code",
   "execution_count": 10,
   "id": "1b75fd6e-dde7-478e-958d-c171c1d251c0",
   "metadata": {},
   "outputs": [
    {
     "data": {
      "text/plain": [
       "ram            0\n",
       "storage        0\n",
       "screen         4\n",
       "final_price    0\n",
       "dtype: int64"
      ]
     },
     "execution_count": 10,
     "metadata": {},
     "output_type": "execute_result"
    }
   ],
   "source": [
    "df.isnull().sum()"
   ]
  },
  {
   "cell_type": "code",
   "execution_count": 11,
   "id": "4060aaf2-fd25-4a4e-81c2-13c33a4930f2",
   "metadata": {},
   "outputs": [
    {
     "data": {
      "text/plain": [
       "16.0"
      ]
     },
     "execution_count": 11,
     "metadata": {},
     "output_type": "execute_result"
    }
   ],
   "source": [
    "df.ram.median()"
   ]
  },
  {
   "cell_type": "code",
   "execution_count": 12,
   "id": "620b4d7c-9f9a-4238-b1e5-b94b12e7ea90",
   "metadata": {},
   "outputs": [
    {
     "data": {
      "text/plain": [
       "count    2160.000000\n",
       "mean       15.413889\n",
       "std         9.867815\n",
       "min         4.000000\n",
       "25%         8.000000\n",
       "50%        16.000000\n",
       "75%        16.000000\n",
       "max       128.000000\n",
       "Name: ram, dtype: float64"
      ]
     },
     "execution_count": 12,
     "metadata": {},
     "output_type": "execute_result"
    }
   ],
   "source": [
    "df.ram.describe()"
   ]
  },
  {
   "cell_type": "code",
   "execution_count": 13,
   "id": "8724d4e9-f1a4-4e41-9bb9-7cd23c33923a",
   "metadata": {},
   "outputs": [
    {
     "name": "stdout",
     "output_type": "stream",
     "text": [
      "432 432 1296\n"
     ]
    }
   ],
   "source": [
    "n=int(len(df))\n",
    "n_valid =  n_test = int(n*0.2)\n",
    "n_train=n-n_valid-n_test\n",
    "print(n_test,n_valid,n_train)"
   ]
  },
  {
   "cell_type": "code",
   "execution_count": 14,
   "id": "2b22a135-34e6-40ff-9f68-801aff7e0979",
   "metadata": {},
   "outputs": [],
   "source": [
    "df_train=df.iloc[:n_train]\n",
    "df_valid=df.iloc[n_train:n_train+n_valid]\n",
    "df_test=df.iloc[n_train+n_valid:]"
   ]
  },
  {
   "cell_type": "code",
   "execution_count": 15,
   "id": "f79a2300-8b6b-4ce0-b0b0-f47aca9cbbea",
   "metadata": {},
   "outputs": [
    {
     "data": {
      "text/html": [
       "<div>\n",
       "<style scoped>\n",
       "    .dataframe tbody tr th:only-of-type {\n",
       "        vertical-align: middle;\n",
       "    }\n",
       "\n",
       "    .dataframe tbody tr th {\n",
       "        vertical-align: top;\n",
       "    }\n",
       "\n",
       "    .dataframe thead th {\n",
       "        text-align: right;\n",
       "    }\n",
       "</style>\n",
       "<table border=\"1\" class=\"dataframe\">\n",
       "  <thead>\n",
       "    <tr style=\"text-align: right;\">\n",
       "      <th></th>\n",
       "      <th>ram</th>\n",
       "      <th>storage</th>\n",
       "      <th>screen</th>\n",
       "      <th>final_price</th>\n",
       "    </tr>\n",
       "  </thead>\n",
       "  <tbody>\n",
       "    <tr>\n",
       "      <th>0</th>\n",
       "      <td>8</td>\n",
       "      <td>512</td>\n",
       "      <td>15.6</td>\n",
       "      <td>1009.00</td>\n",
       "    </tr>\n",
       "    <tr>\n",
       "      <th>1</th>\n",
       "      <td>8</td>\n",
       "      <td>256</td>\n",
       "      <td>15.6</td>\n",
       "      <td>299.00</td>\n",
       "    </tr>\n",
       "    <tr>\n",
       "      <th>2</th>\n",
       "      <td>8</td>\n",
       "      <td>256</td>\n",
       "      <td>15.6</td>\n",
       "      <td>789.00</td>\n",
       "    </tr>\n",
       "    <tr>\n",
       "      <th>3</th>\n",
       "      <td>16</td>\n",
       "      <td>1000</td>\n",
       "      <td>15.6</td>\n",
       "      <td>1199.00</td>\n",
       "    </tr>\n",
       "    <tr>\n",
       "      <th>4</th>\n",
       "      <td>16</td>\n",
       "      <td>512</td>\n",
       "      <td>15.6</td>\n",
       "      <td>669.01</td>\n",
       "    </tr>\n",
       "    <tr>\n",
       "      <th>...</th>\n",
       "      <td>...</td>\n",
       "      <td>...</td>\n",
       "      <td>...</td>\n",
       "      <td>...</td>\n",
       "    </tr>\n",
       "    <tr>\n",
       "      <th>1291</th>\n",
       "      <td>8</td>\n",
       "      <td>256</td>\n",
       "      <td>15.6</td>\n",
       "      <td>689.08</td>\n",
       "    </tr>\n",
       "    <tr>\n",
       "      <th>1292</th>\n",
       "      <td>8</td>\n",
       "      <td>256</td>\n",
       "      <td>15.6</td>\n",
       "      <td>481.60</td>\n",
       "    </tr>\n",
       "    <tr>\n",
       "      <th>1293</th>\n",
       "      <td>8</td>\n",
       "      <td>512</td>\n",
       "      <td>15.6</td>\n",
       "      <td>541.55</td>\n",
       "    </tr>\n",
       "    <tr>\n",
       "      <th>1294</th>\n",
       "      <td>8</td>\n",
       "      <td>512</td>\n",
       "      <td>14.0</td>\n",
       "      <td>803.61</td>\n",
       "    </tr>\n",
       "    <tr>\n",
       "      <th>1295</th>\n",
       "      <td>16</td>\n",
       "      <td>512</td>\n",
       "      <td>14.0</td>\n",
       "      <td>709.81</td>\n",
       "    </tr>\n",
       "  </tbody>\n",
       "</table>\n",
       "<p>1296 rows × 4 columns</p>\n",
       "</div>"
      ],
      "text/plain": [
       "      ram  storage  screen  final_price\n",
       "0       8      512    15.6      1009.00\n",
       "1       8      256    15.6       299.00\n",
       "2       8      256    15.6       789.00\n",
       "3      16     1000    15.6      1199.00\n",
       "4      16      512    15.6       669.01\n",
       "...   ...      ...     ...          ...\n",
       "1291    8      256    15.6       689.08\n",
       "1292    8      256    15.6       481.60\n",
       "1293    8      512    15.6       541.55\n",
       "1294    8      512    14.0       803.61\n",
       "1295   16      512    14.0       709.81\n",
       "\n",
       "[1296 rows x 4 columns]"
      ]
     },
     "execution_count": 15,
     "metadata": {},
     "output_type": "execute_result"
    }
   ],
   "source": [
    "df_train"
   ]
  },
  {
   "cell_type": "code",
   "execution_count": 16,
   "id": "663ea13b-a7d6-4c3d-924e-30ccbd72533b",
   "metadata": {},
   "outputs": [],
   "source": [
    "idx=list(df.index)"
   ]
  },
  {
   "cell_type": "code",
   "execution_count": 17,
   "id": "d3850542-3deb-4c90-acac-35f44984c23a",
   "metadata": {},
   "outputs": [],
   "source": [
    "np.random.seed(42)\n",
    "np.random.shuffle(idx)"
   ]
  },
  {
   "cell_type": "code",
   "execution_count": 18,
   "id": "9dbee0f9-0c67-46ce-afe3-5d7714bdcca4",
   "metadata": {},
   "outputs": [],
   "source": [
    "df_train=df.iloc[idx[:n_train]]\n",
    "df_valid=df.iloc[idx[n_train:n_train+n_valid]]\n",
    "df_test=df.iloc[idx[n_train+n_valid:]]"
   ]
  },
  {
   "cell_type": "code",
   "execution_count": 19,
   "id": "b4b0a18c-4d2f-48fb-bdd7-336917941f6c",
   "metadata": {},
   "outputs": [],
   "source": [
    "df_train=df_train.reset_index(drop=True)\n",
    "df_valid=df_valid.reset_index(drop=True)\n",
    "df_test=df_test.reset_index(drop=True)"
   ]
  },
  {
   "cell_type": "code",
   "execution_count": 20,
   "id": "a6e7f398-70ee-46d9-9348-17da0149b35f",
   "metadata": {},
   "outputs": [
    {
     "data": {
      "text/html": [
       "<div>\n",
       "<style scoped>\n",
       "    .dataframe tbody tr th:only-of-type {\n",
       "        vertical-align: middle;\n",
       "    }\n",
       "\n",
       "    .dataframe tbody tr th {\n",
       "        vertical-align: top;\n",
       "    }\n",
       "\n",
       "    .dataframe thead th {\n",
       "        text-align: right;\n",
       "    }\n",
       "</style>\n",
       "<table border=\"1\" class=\"dataframe\">\n",
       "  <thead>\n",
       "    <tr style=\"text-align: right;\">\n",
       "      <th></th>\n",
       "      <th>ram</th>\n",
       "      <th>storage</th>\n",
       "      <th>screen</th>\n",
       "      <th>final_price</th>\n",
       "    </tr>\n",
       "  </thead>\n",
       "  <tbody>\n",
       "    <tr>\n",
       "      <th>0</th>\n",
       "      <td>32</td>\n",
       "      <td>1000</td>\n",
       "      <td>15.6</td>\n",
       "      <td>1123.29</td>\n",
       "    </tr>\n",
       "    <tr>\n",
       "      <th>1</th>\n",
       "      <td>4</td>\n",
       "      <td>64</td>\n",
       "      <td>14.1</td>\n",
       "      <td>201.05</td>\n",
       "    </tr>\n",
       "    <tr>\n",
       "      <th>2</th>\n",
       "      <td>32</td>\n",
       "      <td>1000</td>\n",
       "      <td>14.0</td>\n",
       "      <td>997.74</td>\n",
       "    </tr>\n",
       "    <tr>\n",
       "      <th>3</th>\n",
       "      <td>16</td>\n",
       "      <td>512</td>\n",
       "      <td>13.3</td>\n",
       "      <td>1016.00</td>\n",
       "    </tr>\n",
       "    <tr>\n",
       "      <th>4</th>\n",
       "      <td>32</td>\n",
       "      <td>1000</td>\n",
       "      <td>16.0</td>\n",
       "      <td>2739.00</td>\n",
       "    </tr>\n",
       "    <tr>\n",
       "      <th>...</th>\n",
       "      <td>...</td>\n",
       "      <td>...</td>\n",
       "      <td>...</td>\n",
       "      <td>...</td>\n",
       "    </tr>\n",
       "    <tr>\n",
       "      <th>1291</th>\n",
       "      <td>8</td>\n",
       "      <td>256</td>\n",
       "      <td>14.0</td>\n",
       "      <td>549.00</td>\n",
       "    </tr>\n",
       "    <tr>\n",
       "      <th>1292</th>\n",
       "      <td>32</td>\n",
       "      <td>1000</td>\n",
       "      <td>16.0</td>\n",
       "      <td>1999.00</td>\n",
       "    </tr>\n",
       "    <tr>\n",
       "      <th>1293</th>\n",
       "      <td>16</td>\n",
       "      <td>512</td>\n",
       "      <td>15.6</td>\n",
       "      <td>1059.00</td>\n",
       "    </tr>\n",
       "    <tr>\n",
       "      <th>1294</th>\n",
       "      <td>16</td>\n",
       "      <td>512</td>\n",
       "      <td>14.0</td>\n",
       "      <td>1671.00</td>\n",
       "    </tr>\n",
       "    <tr>\n",
       "      <th>1295</th>\n",
       "      <td>16</td>\n",
       "      <td>512</td>\n",
       "      <td>14.0</td>\n",
       "      <td>1056.00</td>\n",
       "    </tr>\n",
       "  </tbody>\n",
       "</table>\n",
       "<p>1296 rows × 4 columns</p>\n",
       "</div>"
      ],
      "text/plain": [
       "      ram  storage  screen  final_price\n",
       "0      32     1000    15.6      1123.29\n",
       "1       4       64    14.1       201.05\n",
       "2      32     1000    14.0       997.74\n",
       "3      16      512    13.3      1016.00\n",
       "4      32     1000    16.0      2739.00\n",
       "...   ...      ...     ...          ...\n",
       "1291    8      256    14.0       549.00\n",
       "1292   32     1000    16.0      1999.00\n",
       "1293   16      512    15.6      1059.00\n",
       "1294   16      512    14.0      1671.00\n",
       "1295   16      512    14.0      1056.00\n",
       "\n",
       "[1296 rows x 4 columns]"
      ]
     },
     "execution_count": 20,
     "metadata": {},
     "output_type": "execute_result"
    }
   ],
   "source": [
    "y_train=np.log1p(df_train.final_price.values)\n",
    "y_valid=np.log1p(df_valid.final_price.values)\n",
    "y_test=np.log1p(df_test.final_price.values)\n",
    "df_train"
   ]
  },
  {
   "cell_type": "code",
   "execution_count": 21,
   "id": "db431aa0-b638-4a71-a3c8-77cce57fb554",
   "metadata": {},
   "outputs": [],
   "source": [
    "df_train=df_train.drop('final_price',axis=1)\n",
    "df_valid=df_valid.drop('final_price',axis=1)\n",
    "df_test=df_test.drop('final_price',axis=1)"
   ]
  },
  {
   "cell_type": "code",
   "execution_count": 22,
   "id": "c06aaaf4-85ee-49e5-b018-ec75289044f6",
   "metadata": {},
   "outputs": [],
   "source": [
    "def train(X,y):\n",
    "    ones=np.ones(X.shape[0])\n",
    "    X=np.column_stack([ones,X])\n",
    "    XTX = X.T.dot(X)\n",
    "    XTXinv=np.linalg.inv(XTX)\n",
    "    w_full=XTXinv.dot(X.T).dot(y)\n",
    "\n",
    "    return w_full[0] , w_full[1:]\n",
    "    "
   ]
  },
  {
   "cell_type": "code",
   "execution_count": 23,
   "id": "5bfb92cc-01fc-43f4-9165-6b707f9d2563",
   "metadata": {},
   "outputs": [],
   "source": [
    "def rmse(y_pred,y_act):\n",
    "    se=(y_pred-y_act)**2\n",
    "    mse=se.mean()\n",
    "    return np.sqrt(mse)"
   ]
  },
  {
   "cell_type": "markdown",
   "id": "e5dfe6af-e42c-4b1f-a5a8-8dc049de8251",
   "metadata": {},
   "source": [
    "### filling nulls with 0"
   ]
  },
  {
   "cell_type": "code",
   "execution_count": 24,
   "id": "178e290d-a832-4a7c-bbeb-8d2e5fe62cfe",
   "metadata": {},
   "outputs": [],
   "source": [
    "df_train_0=df_train.fillna(0)"
   ]
  },
  {
   "cell_type": "code",
   "execution_count": 25,
   "id": "19e95cc0-76b6-4ebd-a93b-7718270a1799",
   "metadata": {},
   "outputs": [],
   "source": [
    " w0,w = train (df_train_0,y_train)"
   ]
  },
  {
   "cell_type": "code",
   "execution_count": 26,
   "id": "07e8f370-ba98-4a10-b4f6-237052462f67",
   "metadata": {},
   "outputs": [],
   "source": [
    "prediction = w0+ df_valid.dot(w)"
   ]
  },
  {
   "cell_type": "code",
   "execution_count": 27,
   "id": "6f032f3f-b625-4d69-be4a-b292b1a5c3df",
   "metadata": {},
   "outputs": [
    {
     "data": {
      "text/plain": [
       "0      7.645053\n",
       "1      6.916488\n",
       "2      6.811265\n",
       "3      6.610015\n",
       "4      6.706041\n",
       "         ...   \n",
       "427    6.547395\n",
       "428    6.620971\n",
       "429    6.764472\n",
       "430    6.974919\n",
       "431    6.363386\n",
       "Length: 432, dtype: float64"
      ]
     },
     "execution_count": 27,
     "metadata": {},
     "output_type": "execute_result"
    }
   ],
   "source": [
    "prediction"
   ]
  },
  {
   "cell_type": "code",
   "execution_count": 28,
   "id": "a243a36f-0fee-499e-b362-28d27a484fb6",
   "metadata": {},
   "outputs": [
    {
     "data": {
      "text/plain": [
       "0.4289997135810145"
      ]
     },
     "execution_count": 28,
     "metadata": {},
     "output_type": "execute_result"
    }
   ],
   "source": [
    "rmse(prediction,y_valid)"
   ]
  },
  {
   "cell_type": "markdown",
   "id": "ba1026e1-ef76-43c8-8756-555f892a6bd4",
   "metadata": {},
   "source": [
    "### filling nulls with mean"
   ]
  },
  {
   "cell_type": "code",
   "execution_count": 29,
   "id": "df092336-f38a-47be-8e98-7e4e10226d5a",
   "metadata": {},
   "outputs": [],
   "source": [
    "df_train_mean=df_train.fillna(df_train.screen.mean())"
   ]
  },
  {
   "cell_type": "code",
   "execution_count": 30,
   "id": "5c854ae7-8153-488d-b55f-4692fff4c10c",
   "metadata": {},
   "outputs": [
    {
     "data": {
      "text/html": [
       "<div>\n",
       "<style scoped>\n",
       "    .dataframe tbody tr th:only-of-type {\n",
       "        vertical-align: middle;\n",
       "    }\n",
       "\n",
       "    .dataframe tbody tr th {\n",
       "        vertical-align: top;\n",
       "    }\n",
       "\n",
       "    .dataframe thead th {\n",
       "        text-align: right;\n",
       "    }\n",
       "</style>\n",
       "<table border=\"1\" class=\"dataframe\">\n",
       "  <thead>\n",
       "    <tr style=\"text-align: right;\">\n",
       "      <th></th>\n",
       "      <th>ram</th>\n",
       "      <th>storage</th>\n",
       "      <th>screen</th>\n",
       "    </tr>\n",
       "  </thead>\n",
       "  <tbody>\n",
       "    <tr>\n",
       "      <th>0</th>\n",
       "      <td>32</td>\n",
       "      <td>1000</td>\n",
       "      <td>15.6</td>\n",
       "    </tr>\n",
       "    <tr>\n",
       "      <th>1</th>\n",
       "      <td>4</td>\n",
       "      <td>64</td>\n",
       "      <td>14.1</td>\n",
       "    </tr>\n",
       "    <tr>\n",
       "      <th>2</th>\n",
       "      <td>32</td>\n",
       "      <td>1000</td>\n",
       "      <td>14.0</td>\n",
       "    </tr>\n",
       "    <tr>\n",
       "      <th>3</th>\n",
       "      <td>16</td>\n",
       "      <td>512</td>\n",
       "      <td>13.3</td>\n",
       "    </tr>\n",
       "    <tr>\n",
       "      <th>4</th>\n",
       "      <td>32</td>\n",
       "      <td>1000</td>\n",
       "      <td>16.0</td>\n",
       "    </tr>\n",
       "    <tr>\n",
       "      <th>...</th>\n",
       "      <td>...</td>\n",
       "      <td>...</td>\n",
       "      <td>...</td>\n",
       "    </tr>\n",
       "    <tr>\n",
       "      <th>1291</th>\n",
       "      <td>8</td>\n",
       "      <td>256</td>\n",
       "      <td>14.0</td>\n",
       "    </tr>\n",
       "    <tr>\n",
       "      <th>1292</th>\n",
       "      <td>32</td>\n",
       "      <td>1000</td>\n",
       "      <td>16.0</td>\n",
       "    </tr>\n",
       "    <tr>\n",
       "      <th>1293</th>\n",
       "      <td>16</td>\n",
       "      <td>512</td>\n",
       "      <td>15.6</td>\n",
       "    </tr>\n",
       "    <tr>\n",
       "      <th>1294</th>\n",
       "      <td>16</td>\n",
       "      <td>512</td>\n",
       "      <td>14.0</td>\n",
       "    </tr>\n",
       "    <tr>\n",
       "      <th>1295</th>\n",
       "      <td>16</td>\n",
       "      <td>512</td>\n",
       "      <td>14.0</td>\n",
       "    </tr>\n",
       "  </tbody>\n",
       "</table>\n",
       "<p>1296 rows × 3 columns</p>\n",
       "</div>"
      ],
      "text/plain": [
       "      ram  storage  screen\n",
       "0      32     1000    15.6\n",
       "1       4       64    14.1\n",
       "2      32     1000    14.0\n",
       "3      16      512    13.3\n",
       "4      32     1000    16.0\n",
       "...   ...      ...     ...\n",
       "1291    8      256    14.0\n",
       "1292   32     1000    16.0\n",
       "1293   16      512    15.6\n",
       "1294   16      512    14.0\n",
       "1295   16      512    14.0\n",
       "\n",
       "[1296 rows x 3 columns]"
      ]
     },
     "execution_count": 30,
     "metadata": {},
     "output_type": "execute_result"
    }
   ],
   "source": [
    "df_train_mean"
   ]
  },
  {
   "cell_type": "code",
   "execution_count": 31,
   "id": "a13b6600-c24a-4f3b-8a07-7ea75ee48983",
   "metadata": {},
   "outputs": [],
   "source": [
    "w0,w = train(df_train_mean,y_train)"
   ]
  },
  {
   "cell_type": "code",
   "execution_count": 32,
   "id": "447f2f33-a91c-430d-b8e0-4a5fb1ba1665",
   "metadata": {},
   "outputs": [
    {
     "data": {
      "text/plain": [
       "0      7.644579\n",
       "1      6.913460\n",
       "2      6.807450\n",
       "3      6.621521\n",
       "4      6.701440\n",
       "         ...   \n",
       "427    6.563425\n",
       "428    6.635124\n",
       "429    6.773989\n",
       "430    6.986009\n",
       "431    6.369420\n",
       "Length: 432, dtype: float64"
      ]
     },
     "execution_count": 32,
     "metadata": {},
     "output_type": "execute_result"
    }
   ],
   "source": [
    "prediction= w0+df_valid.dot(w)\n",
    "prediction"
   ]
  },
  {
   "cell_type": "code",
   "execution_count": 33,
   "id": "d31c9d4a-3819-4f71-9334-cc6b148ea0b7",
   "metadata": {},
   "outputs": [
    {
     "data": {
      "text/plain": [
       "0.4294039405116451"
      ]
     },
     "execution_count": 33,
     "metadata": {},
     "output_type": "execute_result"
    }
   ],
   "source": [
    "rmse(prediction,y_valid)"
   ]
  },
  {
   "cell_type": "code",
   "execution_count": 34,
   "id": "37575aa5-c1e3-40f0-aa35-9937cd54409c",
   "metadata": {},
   "outputs": [],
   "source": [
    "df_valid=df_valid.fillna(0)"
   ]
  },
  {
   "cell_type": "markdown",
   "id": "f4b55972-e035-4339-b838-1db09f5d03e5",
   "metadata": {},
   "source": [
    "### with regularization"
   ]
  },
  {
   "cell_type": "code",
   "execution_count": 35,
   "id": "17cddff7-9b83-4dfa-a07a-ce2249489ad2",
   "metadata": {},
   "outputs": [],
   "source": [
    "def train_regularization(X,y,r):\n",
    "    ones=np.ones(X.shape[0])\n",
    "    X=np.column_stack([ones,X])\n",
    "    XTX = X.T.dot(X)\n",
    "    XTX = XTX + r * np.eye(XTX.shape[0])\n",
    "    XTXinv=np.linalg.inv(XTX)\n",
    "    w_full=XTXinv.dot(X.T).dot(y)\n",
    "\n",
    "    return w_full[0] , w_full[1:]"
   ]
  },
  {
   "cell_type": "code",
   "execution_count": 36,
   "id": "418971a2-f66e-4b7d-a7ed-56ec1c26b4fe",
   "metadata": {},
   "outputs": [],
   "source": [
    "reg=[0, 0.01, 0.1, 1, 5, 10, 100]"
   ]
  },
  {
   "cell_type": "code",
   "execution_count": 37,
   "id": "8c6cf037-1304-4131-a090-adb8c05c4d8d",
   "metadata": {},
   "outputs": [
    {
     "name": "stdout",
     "output_type": "stream",
     "text": [
      "with regularization 0 : we scored 0.43\n",
      "with regularization 0.01 : we scored 0.43\n",
      "with regularization 0.1 : we scored 0.43\n",
      "with regularization 1 : we scored 0.43\n",
      "with regularization 5 : we scored 0.46\n",
      "with regularization 10 : we scored 0.51\n",
      "with regularization 100 : we scored 0.67\n"
     ]
    }
   ],
   "source": [
    "for r in reg:\n",
    "    w0,w=train_regularization(df_train_0,y_train,r)\n",
    "    prediction=w0+df_valid.dot(w)\n",
    "    score=rmse(prediction,y_valid)\n",
    "\n",
    "    print(f'with regularization {r} : we scored {round(score,2)}')"
   ]
  },
  {
   "cell_type": "code",
   "execution_count": 38,
   "id": "7781f1fc-ae85-4dff-b8b4-cd6d70ca9b83",
   "metadata": {},
   "outputs": [
    {
     "name": "stdout",
     "output_type": "stream",
     "text": [
      "650.0909654714476\n",
      "610.8458701331666\n",
      "554.1156602841149\n",
      "584.5219692357203\n",
      "582.5174300610514\n",
      "623.521301852829\n",
      "608.4534658276979\n",
      "563.1048768952247\n",
      "574.9095727453921\n",
      "591.6107065604331\n"
     ]
    }
   ],
   "source": [
    "seed = [0, 1, 2, 3, 4, 5, 6, 7, 8, 9]\n",
    "scores=[]\n",
    "for s in seed:\n",
    "    np.random.seed(s)\n",
    "    np.random.shuffle(idx)\n",
    "\n",
    "    df=df.fillna(0)\n",
    "    n=int(len(df))\n",
    "    n_valid =  n_test = int(n*0.2)\n",
    "    n_train=n-n_valid-n_test\n",
    "\n",
    "    df_train_=df.iloc[idx[:n_train]]\n",
    "    df_valid_=df.iloc[idx[n_train:n_train+n_valid]]\n",
    "    df_test_=df.iloc[idx[n_train+n_valid:]]\n",
    "\n",
    "    df_train_=df_train_.reset_index(drop=True)\n",
    "    df_valid_=df_valid_.reset_index(drop=True)\n",
    "    df_test_=df_test_.reset_index(drop=True)\n",
    "\n",
    "    y_train_=df_train_.final_price.values\n",
    "    y_valid_=df_valid_.final_price.values\n",
    "    y_test_=df_test_.final_price.values\n",
    "\n",
    "    df_train_=df_train_.drop('final_price',axis=1)\n",
    "    df_valid_=df_valid_.drop('final_price',axis=1)\n",
    "    df_test_=df_test_.drop('final_price',axis=1)\n",
    "\n",
    "    w0,w=train(df_train_,y_train_)\n",
    "    p=w0+df_valid_.dot(w)\n",
    "    score=rmse(p,y_valid_)\n",
    "    print(score)\n",
    "    scores.append(round(score,2))"
   ]
  },
  {
   "cell_type": "code",
   "execution_count": 39,
   "id": "2c57f5a2-ad7b-4576-bbd8-fba4a680794e",
   "metadata": {},
   "outputs": [
    {
     "data": {
      "text/plain": [
       "[650.09, 610.85, 554.12, 584.52, 582.52, 623.52, 608.45, 563.1, 574.91, 591.61]"
      ]
     },
     "execution_count": 39,
     "metadata": {},
     "output_type": "execute_result"
    }
   ],
   "source": [
    "scores"
   ]
  },
  {
   "cell_type": "code",
   "execution_count": 40,
   "id": "da79d2ac-b12f-4b1f-a2ac-b73858ee477b",
   "metadata": {},
   "outputs": [
    {
     "data": {
      "text/plain": [
       "27.651"
      ]
     },
     "execution_count": 40,
     "metadata": {},
     "output_type": "execute_result"
    }
   ],
   "source": [
    "round(np.std(scores),3)"
   ]
  },
  {
   "cell_type": "code",
   "execution_count": 45,
   "id": "23a23917-a0ca-4d97-bf6c-8d52d99a06e0",
   "metadata": {},
   "outputs": [
    {
     "data": {
      "text/plain": [
       "559.6254445507722"
      ]
     },
     "execution_count": 45,
     "metadata": {},
     "output_type": "execute_result"
    }
   ],
   "source": [
    "np.random.seed(9)\n",
    "np.random.shuffle(idx)\n",
    "\n",
    "df=df.fillna(0)\n",
    "\n",
    "n=int(len(df))\n",
    "n_valid =  n_test = int(n*0.2)\n",
    "n_train=n-n_valid-n_test\n",
    "\n",
    "df_train1=df.iloc[idx[:n_train]]\n",
    "df_valid1=df.iloc[idx[n_train:n_train+n_valid]]\n",
    "df_test1=df.iloc[idx[n_train+n_valid:]]\n",
    "\n",
    "df_train1=df_train1.reset_index(drop=True)\n",
    "df_valid1=df_valid1.reset_index(drop=True)\n",
    "df_test1=df_test1.reset_index(drop=True)\n",
    "\n",
    "y_train1=df_train1.final_price.values\n",
    "y_valid1=df_valid1.final_price.values\n",
    "y_test1=df_test1.final_price.values\n",
    "\n",
    "df_train1=df_train1.drop('final_price',axis=1)\n",
    "df_valid1=df_valid1.drop('final_price',axis=1)\n",
    "df_test1=df_test1.drop('final_price',axis=1)\n",
    "\n",
    "train_valid=pd.concat([df_train1,df_valid1])\n",
    "train_valid.reset_index(drop=True)\n",
    "y_train_valid = np.concatenate([y_train1,y_valid1])\n",
    "\n",
    "w0,w=train_regularization(train_valid,y_train_valid,0.001)\n",
    "p=w0+df_test1.dot(w)\n",
    "score=rmse(p,y_test1)\n",
    "score\n"
   ]
  }
 ],
 "metadata": {
  "kernelspec": {
   "display_name": "Python 3 (ipykernel)",
   "language": "python",
   "name": "python3"
  },
  "language_info": {
   "codemirror_mode": {
    "name": "ipython",
    "version": 3
   },
   "file_extension": ".py",
   "mimetype": "text/x-python",
   "name": "python",
   "nbconvert_exporter": "python",
   "pygments_lexer": "ipython3",
   "version": "3.11.9"
  }
 },
 "nbformat": 4,
 "nbformat_minor": 5
}
